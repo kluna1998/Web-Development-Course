{
 "cells": [
  {
   "cell_type": "markdown",
   "metadata": {},
   "source": [
    "## TEMA 1\n",
    "\n",
    "### Protocolos de internet: Arquitectura de protocolos\n",
    "\n",
    "### Modelo OSI\n",
    "\n",
    "### Introducción internet: Arquitectura\n",
    "\n",
    "Redes interconectador y los sistemas son los \"guías\" de los paquetes de datos.\n",
    "\n",
    "### Dominio Internet\n",
    "\n",
    "DNS: domain name system. Vinculan la IP con el nombre del dominio. \n",
    "La asignacion de una URL a una IP se le **Registro DNS**.\n",
    "\n",
    "Nombre del dominion: wikipedia.org\n",
    "\n",
    "URL: https://www.wikipedia.org\n",
    "\n",
    "\n",
    "\n"
   ]
  },
  {
   "cell_type": "code",
   "execution_count": null,
   "metadata": {},
   "outputs": [],
   "source": []
  },
  {
   "cell_type": "code",
   "execution_count": null,
   "metadata": {},
   "outputs": [],
   "source": []
  }
 ],
 "metadata": {
  "language_info": {
   "name": "python"
  },
  "orig_nbformat": 4
 },
 "nbformat": 4,
 "nbformat_minor": 2
}
